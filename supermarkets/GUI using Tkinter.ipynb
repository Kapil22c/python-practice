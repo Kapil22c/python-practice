{
 "cells": [
  {
   "cell_type": "code",
   "execution_count": 1,
   "metadata": {},
   "outputs": [],
   "source": [
    "from tkinter import *"
   ]
  },
  {
   "cell_type": "code",
   "execution_count": 40,
   "metadata": {},
   "outputs": [],
   "source": [
    "window=Tk()\n",
    "def km_to_miles():\n",
    "#     print(float(e1_value.get())*1.6)\n",
    "    miles = float(e1_value.get())*1.6\n",
    "    t1.insert(END,miles)\n",
    "b1 = Button(window, text='Execute', command=km_to_miles)\n",
    "b1.grid(row=0, column=0)\n",
    "\n",
    "e1_value = StringVar()\n",
    "e1= Entry(window, textvariable = e1_value)\n",
    "e1.grid(row=0, column=1)\n",
    "\n",
    "t1 = Text(window, height =1, width=20)\n",
    "t1.grid(row=0, column=2)\n",
    "window.mainloop()"
   ]
  },
  {
   "cell_type": "code",
   "execution_count": null,
   "metadata": {},
   "outputs": [],
   "source": []
  }
 ],
 "metadata": {
  "kernelspec": {
   "display_name": "Python 3",
   "language": "python",
   "name": "python3"
  },
  "language_info": {
   "codemirror_mode": {
    "name": "ipython",
    "version": 3
   },
   "file_extension": ".py",
   "mimetype": "text/x-python",
   "name": "python",
   "nbconvert_exporter": "python",
   "pygments_lexer": "ipython3",
   "version": "3.7.6"
  }
 },
 "nbformat": 4,
 "nbformat_minor": 4
}
